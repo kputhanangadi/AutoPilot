{
 "cells": [
  {
   "cell_type": "code",
   "execution_count": null,
   "metadata": {},
   "outputs": [],
   "source": [
    "##############################################################################################################\n",
    "# THIS CODE APPLIES A BASIC IMAGE PROCESSING ALGORITHM TO AN IMAGE. THIS MASKS THE GREEN COLOR OF THE IMAGE. #\n",
    "##############################################################################################################\n",
    "\n",
    "# first we import OpenCV \n",
    "import cv2 as cv \n",
    "\n",
    "# we create a variable called ip to store the ip address of the PiCar\n",
    "ip = \"192.168.0.10\"\n",
    "# we create a VideoCapture object and tell it to use the ip address of the PiCar\n",
    "# as well we use the %s format to insert the ip address into the string\n",
    "cap = cv.VideoCapture(\"http://%s:8080/?action=stream\" % ip)\n",
    "\n",
    "cap = cv.VideoCapture(\"http://%s:8080/?action=stream\" % ip)"
   ]
  },
  {
   "cell_type": "code",
   "execution_count": null,
   "metadata": {},
   "outputs": [],
   "source": [
    "# we create a while loop to get and display the video\n",
    "while True:\n",
    "    # we get the next frame from the video stored in frame\n",
    "    # ret is a boolean that tells us if the frame was successfully retrieved\n",
    "    # ret is short for return\n",
    "    ret, frame = cap.read()\n",
    "    # we display the frame\n",
    "    cv.imshow(\"PiCar Video\", frame)\n",
    "    # now we convert the frame to the HSV color space\n",
    "    hsv = cv.cvtColor(frame, cv.COLOR_BGR2HSV)\n",
    "    # I found that these ranges work well for green\n",
    "    # However you can change the ranges to find other colors\n",
    "    mask = cv.inRange(hsv, (143, 231, 183), (168, 254, 207))\n",
    "\n",
    "    # now we display the mask\n",
    "    cv.imshow(\"Mask\", mask)\n",
    "    # we use the waitKey function to wait for a key press\n",
    "    # if the key is q then we break out of the loop\n",
    "    if cv.waitKey(1) & 0xFF == ord('q'):\n",
    "        break"
   ]
  }
 ],
 "metadata": {
  "kernelspec": {
   "display_name": "Python 3.9.6 64-bit",
   "language": "python",
   "name": "python3"
  },
  "language_info": {
   "codemirror_mode": {
    "name": "ipython",
    "version": 3
   },
   "file_extension": ".py",
   "mimetype": "text/x-python",
   "name": "python",
   "nbconvert_exporter": "python",
   "pygments_lexer": "ipython3",
   "version": "3.9.6"
  },
  "orig_nbformat": 4,
  "vscode": {
   "interpreter": {
    "hash": "aee8b7b246df8f9039afb4144a1f6fd8d2ca17a180786b69acc140d282b71a49"
   }
  }
 },
 "nbformat": 4,
 "nbformat_minor": 2
}
