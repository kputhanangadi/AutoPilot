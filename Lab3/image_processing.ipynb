{
 "cells": [
  {
   "cell_type": "code",
   "execution_count": 1,
   "metadata": {},
   "outputs": [],
   "source": [
    "##############################################################################################################\n",
    "# THIS CODE APPLIES A BASIC IMAGE PROCESSING ALGORITHM TO AN IMAGE. THIS MASKS THE GREEN COLOR OF THE IMAGE. #\n",
    "##############################################################################################################\n",
    "\n",
    "# first we import OpenCV \n",
    "import cv2 as cv \n",
    "\n",
    "# we create a variable called ip to store the ip address of the PiCar\n",
    "ip = \"192.168.0.10\"\n",
    "# we create a VideoCapture object and tell it to use the ip address of the PiCar\n",
    "# as well we use the %s format to insert the ip address into the string\n",
    "cap = cv.VideoCapture(\"http://%s:8080/?action=stream\" % ip)\n",
    "\n",
    "cap = cv.VideoCapture(\"http://%s:8080/?action=stream\" % ip)"
   ]
  },
  {
   "cell_type": "code",
   "execution_count": 2,
   "metadata": {},
   "outputs": [
    {
     "ename": "KeyboardInterrupt",
     "evalue": "",
     "output_type": "error",
     "traceback": [
      "\u001b[0;31m---------------------------------------------------------------------------\u001b[0m",
      "\u001b[0;31mKeyboardInterrupt\u001b[0m                         Traceback (most recent call last)",
      "Cell \u001b[0;32mIn[2], line 30\u001b[0m\n\u001b[1;32m     21\u001b[0m cv\u001b[39m.\u001b[39mimshow(\u001b[39m\"\u001b[39m\u001b[39mRedMask\u001b[39m\u001b[39m\"\u001b[39m, redmask)\n\u001b[1;32m     22\u001b[0m \u001b[39m# now we display the mask\u001b[39;00m\n\u001b[1;32m     23\u001b[0m \u001b[39m# cv.imshow(\"Bluemask\", bluemask)\u001b[39;00m\n\u001b[1;32m     24\u001b[0m \u001b[39m# now we display the mask\u001b[39;00m\n\u001b[0;32m   (...)\u001b[0m\n\u001b[1;32m     28\u001b[0m \u001b[39m# we use the waitKey function to wait for a key press\u001b[39;00m\n\u001b[1;32m     29\u001b[0m \u001b[39m# if the key is q then we break out of the loop\u001b[39;00m\n\u001b[0;32m---> 30\u001b[0m \u001b[39mif\u001b[39;00m cv\u001b[39m.\u001b[39;49mwaitKey(\u001b[39m1\u001b[39;49m) \u001b[39m&\u001b[39m \u001b[39m0xFF\u001b[39m \u001b[39m==\u001b[39m \u001b[39mord\u001b[39m(\u001b[39m'\u001b[39m\u001b[39mq\u001b[39m\u001b[39m'\u001b[39m):\n\u001b[1;32m     31\u001b[0m     \u001b[39mbreak\u001b[39;00m\n",
      "\u001b[0;31mKeyboardInterrupt\u001b[0m: "
     ]
    },
    {
     "ename": "",
     "evalue": "",
     "output_type": "error",
     "traceback": [
      "\u001b[1;31mThe Kernel crashed while executing code in the the current cell or a previous cell. Please review the code in the cell(s) to identify a possible cause of the failure. Click <a href='https://aka.ms/vscodeJupyterKernelCrash'>here</a> for more info. View Jupyter <a href='command:jupyter.viewOutput'>log</a> for further details."
     ]
    }
   ],
   "source": [
    "# we create a while loop to get and display the video\n",
    "while True:\n",
    "    # we get the next frame from the video stored in frame\n",
    "    # ret is a boolean that tells us if the frame was successfully retrieved\n",
    "    # ret is short for return\n",
    "    ret, frame = cap.read()\n",
    "    # we display the frame\n",
    "    cv.imshow(\"PiCar Video\", frame)\n",
    "    # now we convert the frame to the HSV color space\n",
    "    hsv = cv.cvtColor(frame, cv.COLOR_BGR2HSV)\n",
    "    # I found that these ranges work well for green\n",
    "    # However you can change the ranges to find other colors\n",
    "   \n",
    "    redmask = cv.inRange(hsv, (-30, 50, 100), (30, 255, 300))\n",
    "\n",
    "    bluemask = cv.inRange(hsv, (105, 50, 60), (185, 255, 300))\n",
    "\n",
    "    greenmask = cv.inRange(hsv, (40, 50, 70), (100, 255, 300))\n",
    "\n",
    "    # now we display the mask\n",
    "    cv.imshow(\"RedMask\", redmask)\n",
    "    # now we display the mask\n",
    "    cv.imshow(\"Bluemask\", bluemask)\n",
    "    # now we display the mask\n",
    "    cv.imshow(\"GreenMask\", greenmask)\n",
    "\n",
    "    \n",
    "    # we use the waitKey function to wait for a key press\n",
    "    # if the key is q then we break out of the loop\n",
    "    if cv.waitKey(1) & 0xFF == ord('q'):\n",
    "        break"
   ]
  }
 ],
 "metadata": {
  "kernelspec": {
   "display_name": "Python 3.9.6 64-bit",
   "language": "python",
   "name": "python3"
  },
  "language_info": {
   "codemirror_mode": {
    "name": "ipython",
    "version": 3
   },
   "file_extension": ".py",
   "mimetype": "text/x-python",
   "name": "python",
   "nbconvert_exporter": "python",
   "pygments_lexer": "ipython3",
   "version": "3.9.6"
  },
  "orig_nbformat": 4,
  "vscode": {
   "interpreter": {
    "hash": "31f2aee4e71d21fbe5cf8b01ff0e069b9275f58929596ceb00d14d90e3e16cd6"
   }
  }
 },
 "nbformat": 4,
 "nbformat_minor": 2
}
