{
 "cells": [
  {
   "cell_type": "code",
   "execution_count": 5,
   "metadata": {},
   "outputs": [],
   "source": [
    "##############################################################################################################\n",
    "# THIS CODE APPLIES A BASIC IMAGE PROCESSING ALGORITHM TO AN IMAGE. THIS MASKS THE GREEN COLOR OF THE IMAGE. #\n",
    "##############################################################################################################\n",
    "\n",
    "# first we import OpenCV \n",
    "import cv2 as cv \n",
    "\n",
    "# we create a variable called ip to store the ip address of the PiCar\n",
    "ip = \"192.168.0.10\"\n",
    "# we create a VideoCapture object and tell it to use the ip address of the PiCar\n",
    "# as well we use the %s format to insert the ip address into the string\n",
    "cap = cv.VideoCapture(\"http://%s:8080/?action=stream\" % ip)\n",
    "\n",
    "cap = cv.VideoCapture(\"http://%s:8080/?action=stream\" % ip)"
   ]
  },
  {
   "cell_type": "code",
   "execution_count": 6,
   "metadata": {},
   "outputs": [
    {
     "ename": "KeyboardInterrupt",
     "evalue": "",
     "output_type": "error",
     "traceback": [
      "\u001b[0;31m---------------------------------------------------------------------------\u001b[0m",
      "\u001b[0;31mKeyboardInterrupt\u001b[0m                         Traceback (most recent call last)",
      "Cell \u001b[0;32mIn[6], line 6\u001b[0m\n\u001b[1;32m      1\u001b[0m \u001b[39m# we create a while loop to get and display the video\u001b[39;00m\n\u001b[1;32m      2\u001b[0m \u001b[39mwhile\u001b[39;00m \u001b[39mTrue\u001b[39;00m:\n\u001b[1;32m      3\u001b[0m     \u001b[39m# we get the next frame from the video stored in frame\u001b[39;00m\n\u001b[1;32m      4\u001b[0m     \u001b[39m# ret is a boolean that tells us if the frame was successfully retrieved\u001b[39;00m\n\u001b[1;32m      5\u001b[0m     \u001b[39m# ret is short for return\u001b[39;00m\n\u001b[0;32m----> 6\u001b[0m     ret, frame \u001b[39m=\u001b[39m cap\u001b[39m.\u001b[39;49mread()\n\u001b[1;32m      7\u001b[0m     \u001b[39m# we display the frame\u001b[39;00m\n\u001b[1;32m      8\u001b[0m     cv\u001b[39m.\u001b[39mimshow(\u001b[39m\"\u001b[39m\u001b[39mPiCar Video\u001b[39m\u001b[39m\"\u001b[39m, frame)\n",
      "\u001b[0;31mKeyboardInterrupt\u001b[0m: "
     ]
    }
   ],
   "source": [
    "# we create a while loop to get and display the video\n",
    "while True:\n",
    "    # we get the next frame from the video stored in frame\n",
    "    # ret is a boolean that tells us if the frame was successfully retrieved\n",
    "    # ret is short for return\n",
    "    ret, frame = cap.read()\n",
    "    # we display the frame\n",
    "    cv.imshow(\"PiCar Video\", frame)\n",
    "    # now we convert the frame to the HSV color space\n",
    "    hsv = cv.cvtColor(frame, cv.COLOR_BGR2HSV)\n",
    "    # I found that these ranges work well for green\n",
    "    # However you can change the ranges to find other colors\n",
    "    mask = cv.inRange(hsv, (151, 32.2, 69.4), (146, 6.2, 88.2))\n",
    "\n",
    "    # now we display the mask\n",
    "    cv.imshow(\"Mask\", mask)\n",
    "    # we use the waitKey function to wait for a key press\n",
    "    # if the key is q then we break out of the loop\n",
    "    if cv.waitKey(1) & 0xFF == ord('q'):\n",
    "        break"
   ]
  }
 ],
 "metadata": {
  "kernelspec": {
   "display_name": "Python 3.9.6 64-bit",
   "language": "python",
   "name": "python3"
  },
  "language_info": {
   "codemirror_mode": {
    "name": "ipython",
    "version": 3
   },
   "file_extension": ".py",
   "mimetype": "text/x-python",
   "name": "python",
   "nbconvert_exporter": "python",
   "pygments_lexer": "ipython3",
   "version": "3.9.6"
  },
  "orig_nbformat": 4,
  "vscode": {
   "interpreter": {
    "hash": "31f2aee4e71d21fbe5cf8b01ff0e069b9275f58929596ceb00d14d90e3e16cd6"
   }
  }
 },
 "nbformat": 4,
 "nbformat_minor": 2
}
