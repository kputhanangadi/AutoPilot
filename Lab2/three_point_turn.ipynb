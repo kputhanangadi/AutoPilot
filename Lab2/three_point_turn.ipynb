{
 "cells": [
  {
   "cell_type": "code",
   "execution_count": null,
   "metadata": {},
   "outputs": [],
   "source": [
    "############################################################################\n",
    "# YOU MAY NEED TO ADJUST SOME OF THE VALUES TO MAKE IT WORK WITH YOUR CAR. #\n",
    "############################################################################\n",
    "\n",
    "\n",
    "# first we import socketio we use this to connect to the PiCar\n",
    "import socketio \n",
    "# next we import time we will use this to delay the code\n",
    "import time\n",
    "\n",
    "# create a socketio object\n",
    "# socketio is a module that allows us to easily use websockets.\n",
    "# Websockets are a protocol that allows two programs to communicate with each other in real time\n",
    "# Over the internet. \n",
    "sio = socketio.Client()\n",
    "\n",
    "# we try to connect to the PiCar\n",
    "try:\n",
    "    sio.connect('http://192.168.0.10:3000')\n",
    "# if we fail we print out an error message and exit the program\n",
    "except:\n",
    "    print(\"Failed to connect to PiCar\")\n",
    "    print(\"Check that your laptop is connected to the PiCar network\")\n",
    "    exit()\n",
    "\n",
    "# the center of the steering for my car is 78 degrees yours may be different\n",
    "center = 78\n",
    "\n",
    "sio.emit('steer', center)\n",
    "sio.emit('drive', 50)\n",
    "time.sleep(7.1)\n",
    "sio.emit('drive', 0)\n",
    "\n",
    "sio.emit('steer', 20)\n",
    "sio.emit('drive', 50)\n",
    "time.sleep(1.2)\n",
    "sio.emit('drive', 0)\n",
    "\n",
    "\n",
    "#time.sleep(0.5)\n",
    "sio.emit('drive', -50)\n",
    "sio.emit('steer', 128)\n",
    "time.sleep(1.2)\n",
    "sio.emit('drive', 0)\n",
    "\n",
    "#time.sleep(0.5)\n",
    "sio.emit('drive', 50)\n",
    "sio.emit('steer', 20)\n",
    "time.sleep(1)\n",
    "\n",
    "sio.emit('steer', center)\n",
    "sio.emit('drive', 0)\n",
    "\n",
    "sio.emit('steer', center)\n",
    "sio.emit('drive', 50)\n",
    "time.sleep(7.1)\n",
    "sio.emit('drive', 0)\n",
    "\n",
    "time.sleep(2)"
   ]
  }
 ],
 "metadata": {
  "kernelspec": {
   "display_name": "Python 3.9.6 64-bit",
   "language": "python",
   "name": "python3"
  },
  "language_info": {
   "name": "python",
   "version": "3.9.6"
  },
  "orig_nbformat": 4,
  "vscode": {
   "interpreter": {
    "hash": "31f2aee4e71d21fbe5cf8b01ff0e069b9275f58929596ceb00d14d90e3e16cd6"
   }
  }
 },
 "nbformat": 4,
 "nbformat_minor": 2
}
