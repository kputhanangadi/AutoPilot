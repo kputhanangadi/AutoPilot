{
 "cells": [
  {
   "cell_type": "code",
   "execution_count": null,
   "metadata": {},
   "outputs": [],
   "source": [
    "############################################################################\n",
    "# YOU MAY NEED TO ADJUST SOME OF THE VALUES TO MAKE IT WORK WITH YOUR CAR. #\n",
    "############################################################################\n",
    "\n",
    "\n",
    "# first we import socketio we use this to connect to the PiCar\n",
    "import socketio \n",
    "# next we import time we will use this to delay the code\n",
    "import time\n",
    "\n",
    "# create a socketio object\n",
    "# socketio is a module that allows us to easily use websockets.\n",
    "# Websockets are a protocol that allows two programs to communicate with each other in real time\n",
    "# Over the internet. \n",
    "sio = socketio.Client()\n",
    "\n",
    "# we try to connect to the PiCar\n",
    "try:\n",
    "    sio.connect('http://192.168.0.10:3000')\n",
    "# if we fail we print out an error message and exit the program\n",
    "except:\n",
    "    print(\"Failed to connect to PiCar\")\n",
    "    print(\"Check that your laptop is connected to the PiCar network\")\n",
    "    exit()\n",
    "\n",
    "# point wheels forward \n",
    "sio.emit('steer', 90)\n",
    "time.sleep(2)\n",
    "# drive forwards\n",
    "sio.emit('drive', 50)\n",
    "time.sleep(5)\n",
    "sio.emit('drive', 0)\n",
    "\n",
    "# point wheels forward\n",
    "sio.emit('steer', 90)\n",
    "time.sleep(2)\n",
    "# point wheels left and drive to \n",
    "# do a u-turn\n",
    "sio.emit('steer', 20)\n",
    "sio.emit('drive', 50)\n",
    "time.sleep(3)\n",
    "# stop and reposition the wheels\n",
    "sio.emit('drive', 0)\n",
    "sio.emit('steer', 90)\n",
    "\n",
    "# drive back to the start point \n",
    "sio.emit('drive', 50)\n",
    "time.sleep(5)\n",
    "sio.emit('drive', 0)"
   ]
  }
 ],
 "metadata": {
  "kernelspec": {
   "display_name": "Python 3",
   "language": "python",
   "name": "python3"
  },
  "language_info": {
   "name": "python",
   "version": "3.9.6"
  },
  "orig_nbformat": 4,
  "vscode": {
   "interpreter": {
    "hash": "aee8b7b246df8f9039afb4144a1f6fd8d2ca17a180786b69acc140d282b71a49"
   }
  }
 },
 "nbformat": 4,
 "nbformat_minor": 2
}
