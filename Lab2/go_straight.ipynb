{
 "cells": [
  {
   "cell_type": "code",
   "execution_count": 1,
   "metadata": {},
   "outputs": [
    {
     "name": "stdout",
     "output_type": "stream",
     "text": [
      "Failed to connect to PiCar\n",
      "Check that your laptop is connected to the PiCar network\n"
     ]
    },
    {
     "ename": "BadNamespaceError",
     "evalue": "/ is not a connected namespace.",
     "output_type": "error",
     "traceback": [
      "\u001b[0;31m---------------------------------------------------------------------------\u001b[0m",
      "\u001b[0;31mBadNamespaceError\u001b[0m                         Traceback (most recent call last)",
      "Cell \u001b[0;32mIn[1], line 26\u001b[0m\n\u001b[1;32m     21\u001b[0m     \u001b[39mprint\u001b[39m(\u001b[39m\"\u001b[39m\u001b[39mCheck that your laptop is connected to the PiCar network\u001b[39m\u001b[39m\"\u001b[39m)\n\u001b[1;32m     23\u001b[0m \u001b[39m# now we can start moving the car\u001b[39;00m\n\u001b[1;32m     24\u001b[0m \u001b[39m# we set the angle of the steering to 90 degrees\u001b[39;00m\n\u001b[1;32m     25\u001b[0m \u001b[39m# this is the middle position (180 being fully right and 0 being fully left)\u001b[39;00m\n\u001b[0;32m---> 26\u001b[0m sio\u001b[39m.\u001b[39;49memit(\u001b[39m'\u001b[39;49m\u001b[39msteer\u001b[39;49m\u001b[39m'\u001b[39;49m, \u001b[39m90\u001b[39;49m)\n\u001b[1;32m     27\u001b[0m \u001b[39m# we set the speed to 50%\u001b[39;00m\n\u001b[1;32m     28\u001b[0m sio\u001b[39m.\u001b[39memit(\u001b[39m'\u001b[39m\u001b[39mdrive\u001b[39m\u001b[39m'\u001b[39m, \u001b[39m50\u001b[39m)\n",
      "File \u001b[0;32m~/Library/Python/3.9/lib/python/site-packages/socketio/client.py:393\u001b[0m, in \u001b[0;36mClient.emit\u001b[0;34m(self, event, data, namespace, callback)\u001b[0m\n\u001b[1;32m    391\u001b[0m namespace \u001b[39m=\u001b[39m namespace \u001b[39mor\u001b[39;00m \u001b[39m'\u001b[39m\u001b[39m/\u001b[39m\u001b[39m'\u001b[39m\n\u001b[1;32m    392\u001b[0m \u001b[39mif\u001b[39;00m namespace \u001b[39mnot\u001b[39;00m \u001b[39min\u001b[39;00m \u001b[39mself\u001b[39m\u001b[39m.\u001b[39mnamespaces:\n\u001b[0;32m--> 393\u001b[0m     \u001b[39mraise\u001b[39;00m exceptions\u001b[39m.\u001b[39mBadNamespaceError(\n\u001b[1;32m    394\u001b[0m         namespace \u001b[39m+\u001b[39m \u001b[39m'\u001b[39m\u001b[39m is not a connected namespace.\u001b[39m\u001b[39m'\u001b[39m)\n\u001b[1;32m    395\u001b[0m \u001b[39mself\u001b[39m\u001b[39m.\u001b[39mlogger\u001b[39m.\u001b[39minfo(\u001b[39m'\u001b[39m\u001b[39mEmitting event \u001b[39m\u001b[39m\"\u001b[39m\u001b[39m%s\u001b[39;00m\u001b[39m\"\u001b[39m\u001b[39m [\u001b[39m\u001b[39m%s\u001b[39;00m\u001b[39m]\u001b[39m\u001b[39m'\u001b[39m, event, namespace)\n\u001b[1;32m    396\u001b[0m \u001b[39mif\u001b[39;00m callback \u001b[39mis\u001b[39;00m \u001b[39mnot\u001b[39;00m \u001b[39mNone\u001b[39;00m:\n",
      "\u001b[0;31mBadNamespaceError\u001b[0m: / is not a connected namespace."
     ]
    }
   ],
   "source": [
    "# first we import socketio we use this to connect to the PiCar\n",
    "import socketio\n",
    "# next we import time we will use this to delay the code\n",
    "import time\n",
    "\n",
    "# create a socketio object\n",
    "# socketio is a module that allows us to easily use websockets.\n",
    "# Websockets are a protocol that allows two programs to communicate with each other in real time\n",
    "# Over the internet.\n",
    "sio = socketio.Client()\n",
    "\n",
    "# connect to the PiCar\n",
    "# connects using 192.168.0.10:3000\n",
    "# we try to connect if we fail we tell the user\n",
    "# that they probably are not connected to the PiCar network\n",
    "try:\n",
    "    sio.connect('http://192.168.0.10:3000')\n",
    "\n",
    "except:\n",
    "    print(\"Failed to connect to PiCar\")\n",
    "    print(\"Check that your laptop is connected to the PiCar network\")\n",
    "\n",
    "# now we can start moving the car\n",
    "# we set the angle of the steering to 90 degrees\n",
    "# this is the middle position (180 being fully right and 0 being fully left)\n",
    "sio.emit('steer', 90)\n",
    "# we set the speed to 50%\n",
    "sio.emit('drive', 50)\n",
    "# we wait for 5 second this is how long the car will move for\n",
    "time.sleep(5)\n",
    "# now we stop the car by setting the speed to 0%\n",
    "sio.emit('drive', 0)\n",
    "# we stay stopped for 2 seconds\n",
    "time.sleep(2)\n",
    "# now we reverse by setting the speed to -50%\n",
    "sio.emit('drive', -50)\n",
    "# we wait for 5 seconds again\n",
    "time.sleep(5)\n",
    "# now we stop the car by setting the speed to 0%\n",
    "# don't forget to stop the car!\n",
    "# Otherwise it'll run away!\n",
    "sio.emit('drive', 0)"
   ]
  }
 ],
 "metadata": {
  "kernelspec": {
   "display_name": "Python 3.9.6 64-bit",
   "language": "python",
   "name": "python3"
  },
  "language_info": {
   "codemirror_mode": {
    "name": "ipython",
    "version": 3
   },
   "file_extension": ".py",
   "mimetype": "text/x-python",
   "name": "python",
   "nbconvert_exporter": "python",
   "pygments_lexer": "ipython3",
   "version": "3.9.6"
  },
  "orig_nbformat": 4,
  "vscode": {
   "interpreter": {
    "hash": "31f2aee4e71d21fbe5cf8b01ff0e069b9275f58929596ceb00d14d90e3e16cd6"
   }
  }
 },
 "nbformat": 4,
 "nbformat_minor": 2
}
