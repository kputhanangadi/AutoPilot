{
 "cells": [
  {
   "cell_type": "code",
   "execution_count": 1,
   "metadata": {},
   "outputs": [
    {
     "ename": "ModuleNotFoundError",
     "evalue": "No module named 'socketio'",
     "output_type": "error",
     "traceback": [
      "\u001b[0;31m---------------------------------------------------------------------------\u001b[0m",
      "\u001b[0;31mModuleNotFoundError\u001b[0m                       Traceback (most recent call last)",
      "Cell \u001b[0;32mIn[1], line 2\u001b[0m\n\u001b[1;32m      1\u001b[0m \u001b[39m# first we import socketio we use this to connect to the PiCar\u001b[39;00m\n\u001b[0;32m----> 2\u001b[0m \u001b[39mimport\u001b[39;00m \u001b[39msocketio\u001b[39;00m\n\u001b[1;32m      3\u001b[0m \u001b[39m# next we import time we will use this to delay the code\u001b[39;00m\n\u001b[1;32m      4\u001b[0m \u001b[39mimport\u001b[39;00m \u001b[39mtime\u001b[39;00m\n",
      "\u001b[0;31mModuleNotFoundError\u001b[0m: No module named 'socketio'"
     ]
    }
   ],
   "source": [
    "# first we import socketio we use this to connect to the PiCar\n",
    "import socketio\n",
    "# next we import time we will use this to delay the code\n",
    "import time\n",
    "\n",
    "# create a socketio object\n",
    "# socketio is a module that allows us to easily use websockets.\n",
    "# Websockets are a protocol that allows two programs to communicate with each other in real time\n",
    "# Over the internet.\n",
    "sio = socketio.Client()\n",
    "\n",
    "# connect to the PiCar\n",
    "# connects using 192.168.0.10:3000\n",
    "# we try to connect if we fail we tell the user\n",
    "# that they probably are not connected to the PiCar network\n",
    "try:\n",
    "    sio.connect('http://192.168.0.10:3000')\n",
    "\n",
    "except:\n",
    "    print(\"Failed to connect to PiCar\")\n",
    "    print(\"Check that your laptop is connected to the PiCar network\")\n",
    "\n",
    "# now we can start moving the car\n",
    "# we set the angle of the steering to 90 degrees\n",
    "# this is the middle position (180 being fully right and 0 being fully left)\n",
    "sio.emit('steer', 90)\n",
    "# we set the speed to 50%\n",
    "sio.emit('drive', 50)\n",
    "# we wait for 5 second this is how long the car will move for\n",
    "time.sleep(5)\n",
    "# now we stop the car by setting the speed to 0%\n",
    "sio.emit('drive', 0)\n",
    "# we stay stopped for 2 seconds\n",
    "time.sleep(2)\n",
    "# now we reverse by setting the speed to -50%\n",
    "sio.emit('drive', -50)\n",
    "# we wait for 5 seconds again\n",
    "time.sleep(5)\n",
    "# now we stop the car by setting the speed to 0%\n",
    "# don't forget to stop the car!\n",
    "# Otherwise it'll run away!\n",
    "sio.emit('drive', 0)"
   ]
  }
 ],
 "metadata": {
  "kernelspec": {
   "display_name": "Python 3.9.6 64-bit",
   "language": "python",
   "name": "python3"
  },
  "language_info": {
   "codemirror_mode": {
    "name": "ipython",
    "version": 3
   },
   "file_extension": ".py",
   "mimetype": "text/x-python",
   "name": "python",
   "nbconvert_exporter": "python",
   "pygments_lexer": "ipython3",
   "version": "3.9.6"
  },
  "orig_nbformat": 4,
  "vscode": {
   "interpreter": {
    "hash": "31f2aee4e71d21fbe5cf8b01ff0e069b9275f58929596ceb00d14d90e3e16cd6"
   }
  }
 },
 "nbformat": 4,
 "nbformat_minor": 2
}
